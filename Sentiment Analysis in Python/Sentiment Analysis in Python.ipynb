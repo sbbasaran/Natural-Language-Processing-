{
 "cells": [
  {
   "cell_type": "markdown",
   "id": "b3c1f037",
   "metadata": {},
   "source": [
    "# What is sentiment analysis?\n",
    "\n",
    "sentiment analysis is the process of understanding the opinion of an author about a subject.\n",
    "\n",
    "Three Element:\n",
    "    first element opnion/emotion.\n",
    "    opinion:pos,neutral,neg or Emotion(joy,suprise,anger)\n",
    "    Subject of discussion: What is being talked about?\n",
    "    Opinion Holder\n",
    "\n",
    "Social Media Monitoring\n",
    "Sentiment can be found also in forums,blogs,news\n",
    "Brand Monitoring\n",
    "Customer Service etc.\n",
    "\n"
   ]
  },
  {
   "cell_type": "code",
   "execution_count": 1,
   "id": "83d90716",
   "metadata": {},
   "outputs": [],
   "source": [
    "import pandas as pd\n",
    "import numpy as np\n",
    "import matplotlib.pyplot as plt\n",
    "\n",
    "IMBD = pd.read_csv('/Users/ideakadikoy/Desktop/IMDB_sample.csv')"
   ]
  },
  {
   "cell_type": "code",
   "execution_count": 2,
   "id": "f2a89212",
   "metadata": {},
   "outputs": [
    {
     "data": {
      "text/html": [
       "<div>\n",
       "<style scoped>\n",
       "    .dataframe tbody tr th:only-of-type {\n",
       "        vertical-align: middle;\n",
       "    }\n",
       "\n",
       "    .dataframe tbody tr th {\n",
       "        vertical-align: top;\n",
       "    }\n",
       "\n",
       "    .dataframe thead th {\n",
       "        text-align: right;\n",
       "    }\n",
       "</style>\n",
       "<table border=\"1\" class=\"dataframe\">\n",
       "  <thead>\n",
       "    <tr style=\"text-align: right;\">\n",
       "      <th></th>\n",
       "      <th>Unnamed: 0</th>\n",
       "      <th>review</th>\n",
       "      <th>label</th>\n",
       "    </tr>\n",
       "  </thead>\n",
       "  <tbody>\n",
       "    <tr>\n",
       "      <th>0</th>\n",
       "      <td>18245</td>\n",
       "      <td>This short spoof can be found on Elite's Mille...</td>\n",
       "      <td>0</td>\n",
       "    </tr>\n",
       "    <tr>\n",
       "      <th>1</th>\n",
       "      <td>19801</td>\n",
       "      <td>A singularly unfunny musical comedy that artif...</td>\n",
       "      <td>0</td>\n",
       "    </tr>\n",
       "    <tr>\n",
       "      <th>2</th>\n",
       "      <td>3222</td>\n",
       "      <td>An excellent series, masterfully acted and dir...</td>\n",
       "      <td>1</td>\n",
       "    </tr>\n",
       "    <tr>\n",
       "      <th>3</th>\n",
       "      <td>6010</td>\n",
       "      <td>The master of movie spectacle Cecil B. De Mill...</td>\n",
       "      <td>1</td>\n",
       "    </tr>\n",
       "    <tr>\n",
       "      <th>4</th>\n",
       "      <td>16355</td>\n",
       "      <td>I was gifted with this movie as it had such a ...</td>\n",
       "      <td>0</td>\n",
       "    </tr>\n",
       "  </tbody>\n",
       "</table>\n",
       "</div>"
      ],
      "text/plain": [
       "   Unnamed: 0                                             review  label\n",
       "0       18245  This short spoof can be found on Elite's Mille...      0\n",
       "1       19801  A singularly unfunny musical comedy that artif...      0\n",
       "2        3222  An excellent series, masterfully acted and dir...      1\n",
       "3        6010  The master of movie spectacle Cecil B. De Mill...      1\n",
       "4       16355  I was gifted with this movie as it had such a ...      0"
      ]
     },
     "execution_count": 2,
     "metadata": {},
     "output_type": "execute_result"
    }
   ],
   "source": [
    "IMBD.head()"
   ]
  },
  {
   "cell_type": "code",
   "execution_count": 3,
   "id": "0c648a05",
   "metadata": {},
   "outputs": [
    {
     "data": {
      "text/plain": [
       "0    3782\n",
       "1    3719\n",
       "Name: label, dtype: int64"
      ]
     },
     "execution_count": 3,
     "metadata": {},
     "output_type": "execute_result"
    }
   ],
   "source": [
    "IMBD.label.value_counts() #How many positive and negative reviews?"
   ]
  },
  {
   "cell_type": "code",
   "execution_count": 4,
   "id": "eafc0656",
   "metadata": {},
   "outputs": [
    {
     "data": {
      "text/plain": [
       "0    0.504199\n",
       "1    0.495801\n",
       "Name: label, dtype: float64"
      ]
     },
     "execution_count": 4,
     "metadata": {},
     "output_type": "execute_result"
    }
   ],
   "source": [
    "IMBD.label.value_counts() / len(IMBD) #Percentage of positive and negative reviews"
   ]
  },
  {
   "cell_type": "code",
   "execution_count": 5,
   "id": "260d0002",
   "metadata": {},
   "outputs": [],
   "source": [
    "length_reviews = IMBD.review.str.len() #How long is the longest review?"
   ]
  },
  {
   "cell_type": "code",
   "execution_count": 6,
   "id": "4d4344ed",
   "metadata": {},
   "outputs": [
    {
     "data": {
      "text/plain": [
       "10321"
      ]
     },
     "execution_count": 6,
     "metadata": {},
     "output_type": "execute_result"
    }
   ],
   "source": [
    "max(length_reviews)"
   ]
  },
  {
   "cell_type": "code",
   "execution_count": 7,
   "id": "a8e80f70",
   "metadata": {},
   "outputs": [
    {
     "data": {
      "text/plain": [
       "52"
      ]
     },
     "execution_count": 7,
     "metadata": {},
     "output_type": "execute_result"
    }
   ],
   "source": [
    "min(length_reviews)"
   ]
  },
  {
   "cell_type": "code",
   "execution_count": 8,
   "id": "deecd8e1",
   "metadata": {},
   "outputs": [
    {
     "name": "stdout",
     "output_type": "stream",
     "text": [
      "Number of positive and negative reviews:  <bound method IndexOpsMixin.value_counts of 0       0\n",
      "1       0\n",
      "2       1\n",
      "3       1\n",
      "4       0\n",
      "       ..\n",
      "7496    1\n",
      "7497    1\n",
      "7498    0\n",
      "7499    1\n",
      "7500    1\n",
      "Name: label, Length: 7501, dtype: int64>\n",
      "Proportion of positive and negative reviews:  0    0.504199\n",
      "1    0.495801\n",
      "Name: label, dtype: float64\n"
     ]
    }
   ],
   "source": [
    "# Find the number of positive and negative reviews\n",
    "print('Number of positive and negative reviews: ', IMBD.label.value_counts)\n",
    "\n",
    "# Find the proportion of positive and negative reviews\n",
    "print('Proportion of positive and negative reviews: ', IMBD.label.value_counts() / len(IMBD))"
   ]
  },
  {
   "cell_type": "markdown",
   "id": "2880f60a",
   "metadata": {},
   "source": [
    "# Sentiment analysis types and approaches"
   ]
  },
  {
   "cell_type": "markdown",
   "id": "57dee373",
   "metadata": {},
   "source": [
    "Levels of granularity\n",
    "1.document level\n",
    "2.Sentence Level\n",
    "3.Aspect Level\n",
    "\n",
    "Type of sentiment analysis algorithms\n",
    "1.Lexicon-based:nice'2 good+1\n",
    "    \n",
    "    today was a good day total valance:+1\n",
    "2.Automatic/MAchine Learning\n"
   ]
  },
  {
   "cell_type": "code",
   "execution_count": 9,
   "id": "a686d76e",
   "metadata": {},
   "outputs": [],
   "source": [
    "text= \"today was a good day\""
   ]
  },
  {
   "cell_type": "code",
   "execution_count": 10,
   "id": "2319ef45",
   "metadata": {},
   "outputs": [
    {
     "data": {
      "text/plain": [
       "Sentiment(polarity=0.7, subjectivity=0.6000000000000001)"
      ]
     },
     "execution_count": 10,
     "metadata": {},
     "output_type": "execute_result"
    }
   ],
   "source": [
    "from textblob import TextBlob\n",
    "\n",
    "my_valence = TextBlob(text)\n",
    "my_valence.sentiment"
   ]
  },
  {
   "cell_type": "markdown",
   "id": "8abf4807",
   "metadata": {},
   "source": [
    "Automated or rule-based ?\n",
    "\n",
    "\n",
    "Automated/ML\n",
    ". rely onhaving labelled historical data\n",
    "\n",
    "Lexicon-Based: relly on manually crafted valence scores and can be quite fast"
   ]
  },
  {
   "cell_type": "code",
   "execution_count": null,
   "id": "6acde719",
   "metadata": {},
   "outputs": [],
   "source": [
    "# Import the required packages\n",
    "from textblob import TextBlob\n",
    "\n",
    "\n",
    "# Create a textblob object \n",
    "blob_annak = TextBlob(annak)\n",
    "blob_catcher = TextBlob(catcher)\n",
    "\n",
    "# Print out the sentiment   \n",
    "print('Sentiment of annak: ', blob_annak.sentiment)\n",
    "print('Sentiment of catcher: ', blob_catcher.sentiment)"
   ]
  },
  {
   "cell_type": "markdown",
   "id": "1f7208ce",
   "metadata": {},
   "source": [
    "# Let's build a word cloud!"
   ]
  },
  {
   "cell_type": "code",
   "execution_count": 14,
   "id": "e4ad62b4",
   "metadata": {},
   "outputs": [],
   "source": [
    "from wordcloud import WordCloud\n",
    "import pandas as pd\n",
    "import numpy as np\n",
    "import matplotlib.pyplot as plt\n",
    "\n",
    "IMBD = pd.read_csv('/Users/ideakadikoy/Desktop/IMDB_sample.csv')"
   ]
  },
  {
   "cell_type": "code",
   "execution_count": 15,
   "id": "76b0fcb5",
   "metadata": {},
   "outputs": [],
   "source": [
    "two_cities = \"It was the best of times, it was the worst of times,it was the age of wisdom, it was the age of foolishness,it was the epoch of belief, it was the epoch of incredulity,it was the season of Light, it was the season of Darkness,it was the spring of hope, it was the winter of despair, we had everything before us, we had nothing before us,we were all going direct to Heaven, we were all goingdirect the other way – in short, the period was so farlike the present period, that some of its noisiestauthorities insisted on its being received, for goodor for evil, in the superlative degree of comparison only.\"\n"
   ]
  },
  {
   "cell_type": "code",
   "execution_count": 18,
   "id": "ba7e2da9",
   "metadata": {},
   "outputs": [
    {
     "data": {
      "image/png": "[encoded data removed]",
      "text/plain": [
       "<Figure size 432x288 with 1 Axes>"
      ]
     },
     "metadata": {
      "needs_background": "light"
     },
     "output_type": "display_data"
    }
   ],
   "source": [
    "cloud_two_cities = WordCloud().generate(two_cities)\n",
    "plt.imshow(cloud_two_cities, interpolation=\"bilinear\")\n",
    "\n",
    "plt.axis(\"off\")\n",
    "plt.show()"
   ]
  },
  {
   "cell_type": "code",
   "execution_count": 19,
   "id": "a225e3a8",
   "metadata": {},
   "outputs": [],
   "source": [
    "?WordCloud"
   ]
  },
  {
   "cell_type": "markdown",
   "id": "a82fbf36",
   "metadata": {},
   "source": [
    "# Bag-Of-Words"
   ]
  },
  {
   "cell_type": "markdown",
   "id": "35bb1802",
   "metadata": {},
   "source": [
    "What is a bag-of-word?\n",
    "-Describes the occurence of words within a document\n",
    "or a collection of documents(corpus)\n",
    "-Build a vovabulary or the words\n",
    "\n",
    "Tihs is the bect book ever. I loved the book and highly recommend it!!"
   ]
  },
  {
   "cell_type": "code",
   "execution_count": 22,
   "id": "c4d78722",
   "metadata": {},
   "outputs": [],
   "source": [
    "#CountVectorizer Function\n",
    "\n",
    "import pandas as pd\n",
    "from sklearn.feature_extraction.text import CountVectorizer\n",
    "\n",
    "amazon = pd.read_csv('/Users/ideakadikoy/Desktop/amazon_reviews_sample.csv')\n",
    "\n",
    "vect = CountVectorizer(max_features=1000)\n",
    "vect.fit(amazon.review)\n",
    "X = vect.transform(amazon.review)"
   ]
  },
  {
   "cell_type": "code",
   "execution_count": 23,
   "id": "766b377d",
   "metadata": {},
   "outputs": [
    {
     "data": {
      "text/plain": [
       "<10000x1000 sparse matrix of type '<class 'numpy.int64'>'\n",
       "\twith 406668 stored elements in Compressed Sparse Row format>"
      ]
     },
     "execution_count": 23,
     "metadata": {},
     "output_type": "execute_result"
    }
   ],
   "source": [
    "X"
   ]
  },
  {
   "cell_type": "code",
   "execution_count": 24,
   "id": "99ccfdc9",
   "metadata": {},
   "outputs": [],
   "source": [
    "my_array = X.toarray()"
   ]
  },
  {
   "cell_type": "code",
   "execution_count": null,
   "id": "288c8c83",
   "metadata": {},
   "outputs": [],
   "source": []
  },
  {
   "cell_type": "code",
   "execution_count": 30,
   "id": "f62f53d4",
   "metadata": {},
   "outputs": [
    {
     "ename": "AttributeError",
     "evalue": "'CountVectorizer' object has no attribute 'get_feature_name'",
     "output_type": "error",
     "traceback": [
      "\u001b[0;31m---------------------------------------------------------------------------\u001b[0m",
      "\u001b[0;31mAttributeError\u001b[0m                            Traceback (most recent call last)",
      "\u001b[0;32m<ipython-input-30-25d2172a98dc>\u001b[0m in \u001b[0;36m<module>\u001b[0;34m\u001b[0m\n\u001b[0;32m----> 1\u001b[0;31m \u001b[0mx_df\u001b[0m \u001b[0;34m=\u001b[0m \u001b[0mpd\u001b[0m\u001b[0;34m.\u001b[0m\u001b[0mDataFrame\u001b[0m\u001b[0;34m(\u001b[0m\u001b[0mmy_array\u001b[0m\u001b[0;34m,\u001b[0m \u001b[0mcolumns\u001b[0m\u001b[0;34m=\u001b[0m\u001b[0mvect\u001b[0m\u001b[0;34m.\u001b[0m\u001b[0mget_feature_name\u001b[0m\u001b[0;34m(\u001b[0m\u001b[0;34m)\u001b[0m\u001b[0;34m)\u001b[0m\u001b[0;34m\u001b[0m\u001b[0;34m\u001b[0m\u001b[0m\n\u001b[0m",
      "\u001b[0;31mAttributeError\u001b[0m: 'CountVectorizer' object has no attribute 'get_feature_name'"
     ]
    }
   ],
   "source": [
    "x_df = pd.DataFrame(my_array, columns=vect.get_feature_name())"
   ]
  },
  {
   "cell_type": "code",
   "execution_count": 28,
   "id": "1e48399f",
   "metadata": {},
   "outputs": [
    {
     "name": "stdout",
     "output_type": "stream",
     "text": [
      "[[1 1 1 0 1 0 1 0 0 0 0 0 0]\n",
      " [0 0 0 1 0 1 0 1 1 1 1 2 1]]\n"
     ]
    }
   ],
   "source": [
    "# Import the required function\n",
    "from sklearn.feature_extraction.text import CountVectorizer \n",
    "\n",
    "annak = ['Happy families are all alike;', 'every unhappy family is unhappy in its own way']\n",
    "\n",
    "# Build the vectorizer and fit it\n",
    "anna_vect = CountVectorizer()\n",
    "anna_vect.fit(annak)\n",
    "\n",
    "# Create the bow representation\n",
    "anna_bow = anna_vect.transform(annak)\n",
    "\n",
    "# Print the bag-of-words result \n",
    "print(anna_bow.toarray())"
   ]
  },
  {
   "cell_type": "code",
   "execution_count": null,
   "id": "8be93553",
   "metadata": {},
   "outputs": [],
   "source": [
    "# Import the required function\n",
    "from sklearn.feature_extraction.text import CountVectorizer \n",
    "\n",
    "annak = ['Happy families are all alike;', 'every unhappy family is unhappy in its own way']\n",
    "\n",
    "# Build the vectorizer and fit it\n",
    "anna_vect = CountVectorizer()\n",
    "anna_vect.fit(annak)\n",
    "\n",
    "# Create the bow representation\n",
    "anna_bow = anna_vect.transform(annak)\n",
    "\n",
    "vect = CountVectorizer(max_features=100)\n",
    "vect.fit(annak.annak)\n",
    "\n",
    "\n",
    "# Print the bag-of-words result \n",
    "print(anna_bow.toarray())"
   ]
  },
  {
   "cell_type": "code",
   "execution_count": 31,
   "id": "309cf7e7",
   "metadata": {},
   "outputs": [
    {
     "name": "stdout",
     "output_type": "stream",
     "text": [
      "[[1 0 0 1 0 1 0 1 0 0 1 1 1 0 0 1]\n",
      " [0 1 1 0 1 0 1 0 1 1 0 0 0 1 1 0]]\n"
     ]
    }
   ],
   "source": [
    "from sklearn.feature_extraction.text import CountVectorizer \n",
    "\n",
    "cift= ['Ben Zeynep ile evliyim ve onunla çok mutluyum;', 'Her evli olan çift mutlu olmak zorunda değil']\n",
    "\n",
    "# Build the vectorizer and fit it\n",
    "cift_vect = CountVectorizer()\n",
    "cift_vect.fit(cift)\n",
    "\n",
    "# Create the bow representation\n",
    "cift_bow = cift_vect.transform(cift)\n",
    "\n",
    "# Print the bag-of-words result \n",
    "print(cift_bow.toarray())"
   ]
  },
  {
   "cell_type": "markdown",
   "id": "5b7dde89",
   "metadata": {},
   "source": [
    "# Getting granular with n-grams"
   ]
  },
  {
   "cell_type": "code",
   "execution_count": null,
   "id": "cce83312",
   "metadata": {},
   "outputs": [],
   "source": [
    "from sklearn.feature_extraction.text import CountVectorizer \n",
    "\n",
    "vect = CountVectorizer(ngram_range(min_n,max_n))\n",
    "\n",
    "#Only Unigrams\n",
    "ngram_range=(1,1)\n",
    "#Only biagrams\n",
    "ngram_range=(1,2)"
   ]
  },
  {
   "cell_type": "code",
   "execution_count": 36,
   "id": "10e17a99",
   "metadata": {},
   "outputs": [
    {
     "data": {
      "text/html": [
       "<div>\n",
       "<style scoped>\n",
       "    .dataframe tbody tr th:only-of-type {\n",
       "        vertical-align: middle;\n",
       "    }\n",
       "\n",
       "    .dataframe tbody tr th {\n",
       "        vertical-align: top;\n",
       "    }\n",
       "\n",
       "    .dataframe thead th {\n",
       "        text-align: right;\n",
       "    }\n",
       "</style>\n",
       "<table border=\"1\" class=\"dataframe\">\n",
       "  <thead>\n",
       "    <tr style=\"text-align: right;\">\n",
       "      <th></th>\n",
       "      <th>Unnamed: 0</th>\n",
       "      <th>review</th>\n",
       "      <th>label</th>\n",
       "    </tr>\n",
       "  </thead>\n",
       "  <tbody>\n",
       "    <tr>\n",
       "      <th>0</th>\n",
       "      <td>18245</td>\n",
       "      <td>This short spoof can be found on Elite's Mille...</td>\n",
       "      <td>0</td>\n",
       "    </tr>\n",
       "    <tr>\n",
       "      <th>1</th>\n",
       "      <td>19801</td>\n",
       "      <td>A singularly unfunny musical comedy that artif...</td>\n",
       "      <td>0</td>\n",
       "    </tr>\n",
       "    <tr>\n",
       "      <th>2</th>\n",
       "      <td>3222</td>\n",
       "      <td>An excellent series, masterfully acted and dir...</td>\n",
       "      <td>1</td>\n",
       "    </tr>\n",
       "    <tr>\n",
       "      <th>3</th>\n",
       "      <td>6010</td>\n",
       "      <td>The master of movie spectacle Cecil B. De Mill...</td>\n",
       "      <td>1</td>\n",
       "    </tr>\n",
       "    <tr>\n",
       "      <th>4</th>\n",
       "      <td>16355</td>\n",
       "      <td>I was gifted with this movie as it had such a ...</td>\n",
       "      <td>0</td>\n",
       "    </tr>\n",
       "  </tbody>\n",
       "</table>\n",
       "</div>"
      ],
      "text/plain": [
       "   Unnamed: 0                                             review  label\n",
       "0       18245  This short spoof can be found on Elite's Mille...      0\n",
       "1       19801  A singularly unfunny musical comedy that artif...      0\n",
       "2        3222  An excellent series, masterfully acted and dir...      1\n",
       "3        6010  The master of movie spectacle Cecil B. De Mill...      1\n",
       "4       16355  I was gifted with this movie as it had such a ...      0"
      ]
     },
     "execution_count": 36,
     "metadata": {},
     "output_type": "execute_result"
    }
   ],
   "source": [
    "IMBD = pd.read_csv('/Users/ideakadikoy/Desktop/IMDB_sample.csv')\n",
    "IMBD.head()"
   ]
  },
  {
   "cell_type": "code",
   "execution_count": 35,
   "id": "7ad98e8c",
   "metadata": {},
   "outputs": [
    {
     "name": "stdout",
     "output_type": "stream",
     "text": [
      "   00  00 am  00 and  00 at  00 back  00 bin  00 but  00 doc  00 dollars  \\\n",
      "0   0      0       0      0        0       0       0       0           0   \n",
      "1   0      0       0      0        0       0       0       0           0   \n",
      "2   0      0       0      0        0       0       0       0           0   \n",
      "3   0      0       0      0        0       0       0       0           0   \n",
      "4   0      0       0      0        0       0       0       0           0   \n",
      "\n",
      "   00 for  ...  zx81  zx81 the  zy  zy melvyn  zzzzzzzzzzzz  zzzzzzzzzzzz br  \\\n",
      "0       0  ...     0         0   0          0             0                0   \n",
      "1       0  ...     0         0   0          0             0                0   \n",
      "2       0  ...     0         0   0          0             0                0   \n",
      "3       0  ...     0         0   0          0             0                0   \n",
      "4       0  ...     0         0   0          0             0                0   \n",
      "\n",
      "   zzzzzzzzzzzzz  â½  â½ hour  â½ out  \n",
      "0              0   0        0       0  \n",
      "1              0   0        0       0  \n",
      "2              0   0        0       0  \n",
      "3              0   0        0       0  \n",
      "4              0   0        0       0  \n",
      "\n",
      "[5 rows x 631043 columns]\n"
     ]
    }
   ],
   "source": [
    "from sklearn.feature_extraction.text import CountVectorizer \n",
    "\n",
    "# Build the vectorizer, specify token sequence and fit\n",
    "vect = CountVectorizer(ngram_range=(1,2))\n",
    "vect.fit(IMBD.review)\n",
    "\n",
    "# Transform the review column\n",
    "X_review = vect.transform(IMBD.review)\n",
    "\n",
    "# Create the bow representation\n",
    "X_df = pd.DataFrame(X_review.toarray(), columns=vect.get_feature_names())\n",
    "print(X_df.head())"
   ]
  },
  {
   "cell_type": "code",
   "execution_count": 38,
   "id": "7fa24f46",
   "metadata": {},
   "outputs": [
    {
     "name": "stdout",
     "output_type": "stream",
     "text": [
      "   about  after  all  also  an  and  any  are  as  at  ...  well  were  what  \\\n",
      "0      0      0    0     0   0    1    0    0   2   0  ...     0     0     0   \n",
      "1      0      0    3     1   1   11    0    3   3   4  ...     0     0     1   \n",
      "2      0      1    0     0   1    7    0    1   2   1  ...     0     0     0   \n",
      "3      0      0    0     0   2    1    0    1   2   2  ...     1     0     0   \n",
      "4      0      0    3     0   0    8    0    3   1   0  ...     2     1     0   \n",
      "\n",
      "   when  which  who  will  with  would  you  \n",
      "0     0      0    0     0     1      1    0  \n",
      "1     1      2    0     2     7      2    3  \n",
      "2     0      0    0     0     2      0    0  \n",
      "3     0      0    1     0     0      0    1  \n",
      "4     1      1    0     0     2      0    0  \n",
      "\n",
      "[5 rows x 100 columns]\n"
     ]
    }
   ],
   "source": [
    "from sklearn.feature_extraction.text import CountVectorizer \n",
    "\n",
    "# Build the vectorizer, specify size of vocabulary and fit\n",
    "vect = CountVectorizer(max_features=100)\n",
    "vect.fit(IMBD.review)\n",
    "\n",
    "# Transform the review column\n",
    "X_review = vect.transform(IMBD.review)\n",
    "# Create the bow representation\n",
    "X_df = pd.DataFrame(X_review.toarray(), columns=vect.get_feature_names())\n",
    "print(X_df.head())"
   ]
  },
  {
   "cell_type": "code",
   "execution_count": 39,
   "id": "073d9eae",
   "metadata": {},
   "outputs": [
    {
     "name": "stdout",
     "output_type": "stream",
     "text": [
      "   000  10  100  11  12  13  14  15  1950  1980  ...  york  you  young  \\\n",
      "0    0   0    0   0   0   0   0   0     0     0  ...     0    0      0   \n",
      "1    0   1    0   0   0   0   0   0     0     0  ...     0    3      0   \n",
      "2    0   0    0   0   0   0   0   0     0     0  ...     0    0      1   \n",
      "3    0   0    0   0   0   0   0   0     0     0  ...     0    1      1   \n",
      "4    0   1    0   0   0   0   0   0     0     0  ...     0    0      0   \n",
      "\n",
      "   younger  your  yourself  youth  zero  zombie  zombies  \n",
      "0        0     0         0      0     0       0        1  \n",
      "1        0     2         0      0     0       0        0  \n",
      "2        0     0         0      0     0       0        0  \n",
      "3        0     0         0      0     0       0        0  \n",
      "4        1     0         0      0     0       0        0  \n",
      "\n",
      "[5 rows x 2552 columns]\n"
     ]
    }
   ],
   "source": [
    "from sklearn.feature_extraction.text import CountVectorizer \n",
    "\n",
    "# Build and fit the vectorizer\n",
    "vect = CountVectorizer(min_df=50)\n",
    "vect.fit(IMBD.review)\n",
    "\n",
    "# Transform the review column\n",
    "X_review = vect.transform(IMBD.review)\n",
    "# Create the bow representation\n",
    "X_df = pd.DataFrame(X_review.toarray(), columns=vect.get_feature_names())\n",
    "print(X_df.head())"
   ]
  },
  {
   "cell_type": "code",
   "execution_count": 41,
   "id": "d8d16502",
   "metadata": {},
   "outputs": [
    {
     "name": "stdout",
     "output_type": "stream",
     "text": [
      "   able to  about it  about this  acting and  acting is  acting was  \\\n",
      "0        0         0           0           0          0           0   \n",
      "1        0         0           0           0          0           0   \n",
      "2        0         0           0           0          0           0   \n",
      "3        0         0           0           0          0           0   \n",
      "4        0         0           0           0          0           0   \n",
      "\n",
      "   actors and  after all  after the  again and  ...  you ll  you might  \\\n",
      "0           0          0          0          0  ...       0          0   \n",
      "1           0          0          0          0  ...       0          0   \n",
      "2           0          0          0          0  ...       0          0   \n",
      "3           0          0          0          0  ...       0          0   \n",
      "4           0          0          0          0  ...       0          0   \n",
      "\n",
      "   you see  you think  you to  you ve  you want  you will  you would  \\\n",
      "0        0          0       0       0         0         0          0   \n",
      "1        0          0       0       0         0         0          0   \n",
      "2        0          0       0       0         0         0          0   \n",
      "3        0          0       0       0         0         0          0   \n",
      "4        0          0       0       0         0         0          0   \n",
      "\n",
      "   your time  \n",
      "0          0  \n",
      "1          0  \n",
      "2          0  \n",
      "3          0  \n",
      "4          0  \n",
      "\n",
      "[5 rows x 1000 columns]\n"
     ]
    }
   ],
   "source": [
    "#BOW with n-grams and vocabulary size\n",
    "#In this exercise, you will practice building a bag-of-words once more, \n",
    "#using the reviews dataset of Amazon product reviews. \n",
    "#Your main task will be to limit the size of the vocabulary and specify \n",
    "#the length of the token sequence.\n",
    "\n",
    "from sklearn.feature_extraction.text import CountVectorizer\n",
    "\n",
    "# Build the vectorizer, specify max features and fit\n",
    "vect = CountVectorizer(max_features=1000, ngram_range=(2, 2), max_df=500)\n",
    "vect.fit(IMBD.review)\n",
    "\n",
    "# Transform the review\n",
    "X_review = vect.transform(IMBD.review)\n",
    "\n",
    "# Create a DataFrame from the bow representation\n",
    "X_df = pd.DataFrame(X_review.toarray(), columns=vect.get_feature_names())\n",
    "print(X_df.head())"
   ]
  },
  {
   "cell_type": "markdown",
   "id": "339ed50c",
   "metadata": {},
   "source": [
    "# Build new features from text"
   ]
  },
  {
   "cell_type": "code",
   "execution_count": 43,
   "id": "b285bf6a",
   "metadata": {},
   "outputs": [
    {
     "data": {
      "text/html": [
       "<div>\n",
       "<style scoped>\n",
       "    .dataframe tbody tr th:only-of-type {\n",
       "        vertical-align: middle;\n",
       "    }\n",
       "\n",
       "    .dataframe tbody tr th {\n",
       "        vertical-align: top;\n",
       "    }\n",
       "\n",
       "    .dataframe thead th {\n",
       "        text-align: right;\n",
       "    }\n",
       "</style>\n",
       "<table border=\"1\" class=\"dataframe\">\n",
       "  <thead>\n",
       "    <tr style=\"text-align: right;\">\n",
       "      <th></th>\n",
       "      <th>Unnamed: 0</th>\n",
       "      <th>review</th>\n",
       "      <th>label</th>\n",
       "    </tr>\n",
       "  </thead>\n",
       "  <tbody>\n",
       "    <tr>\n",
       "      <th>0</th>\n",
       "      <td>18245</td>\n",
       "      <td>This short spoof can be found on Elite's Mille...</td>\n",
       "      <td>0</td>\n",
       "    </tr>\n",
       "    <tr>\n",
       "      <th>1</th>\n",
       "      <td>19801</td>\n",
       "      <td>A singularly unfunny musical comedy that artif...</td>\n",
       "      <td>0</td>\n",
       "    </tr>\n",
       "    <tr>\n",
       "      <th>2</th>\n",
       "      <td>3222</td>\n",
       "      <td>An excellent series, masterfully acted and dir...</td>\n",
       "      <td>1</td>\n",
       "    </tr>\n",
       "    <tr>\n",
       "      <th>3</th>\n",
       "      <td>6010</td>\n",
       "      <td>The master of movie spectacle Cecil B. De Mill...</td>\n",
       "      <td>1</td>\n",
       "    </tr>\n",
       "    <tr>\n",
       "      <th>4</th>\n",
       "      <td>16355</td>\n",
       "      <td>I was gifted with this movie as it had such a ...</td>\n",
       "      <td>0</td>\n",
       "    </tr>\n",
       "  </tbody>\n",
       "</table>\n",
       "</div>"
      ],
      "text/plain": [
       "   Unnamed: 0                                             review  label\n",
       "0       18245  This short spoof can be found on Elite's Mille...      0\n",
       "1       19801  A singularly unfunny musical comedy that artif...      0\n",
       "2        3222  An excellent series, masterfully acted and dir...      1\n",
       "3        6010  The master of movie spectacle Cecil B. De Mill...      1\n",
       "4       16355  I was gifted with this movie as it had such a ...      0"
      ]
     },
     "execution_count": 43,
     "metadata": {},
     "output_type": "execute_result"
    }
   ],
   "source": [
    "#goal: Enrich the existing dataset with features related to the \n",
    "#text column(capturing the sentiment\n",
    "            \n",
    "reviews = pd.read_csv('/Users/ideakadikoy/Desktop/IMDB_sample.csv')\n",
    "reviews.head()\n",
    "\n",
    "How long is each review?\n",
    "how many sentences does it contain?\n",
    "what parts of speech are involved?\n",
    "how many punctuation marks?"
   ]
  },
  {
   "cell_type": "code",
   "execution_count": 44,
   "id": "eb466801",
   "metadata": {},
   "outputs": [],
   "source": [
    "from nltk import word_tokenize"
   ]
  },
  {
   "cell_type": "code",
   "execution_count": 45,
   "id": "985428a3",
   "metadata": {},
   "outputs": [],
   "source": [
    "anna_k = \"Happy families are all alike, every unhapy family is unhappy in its own way.\""
   ]
  },
  {
   "cell_type": "code",
   "execution_count": 46,
   "id": "82b98411",
   "metadata": {},
   "outputs": [
    {
     "data": {
      "text/plain": [
       "['Happy',\n",
       " 'families',\n",
       " 'are',\n",
       " 'all',\n",
       " 'alike',\n",
       " ',',\n",
       " 'every',\n",
       " 'unhapy',\n",
       " 'family',\n",
       " 'is',\n",
       " 'unhappy',\n",
       " 'in',\n",
       " 'its',\n",
       " 'own',\n",
       " 'way',\n",
       " '.']"
      ]
     },
     "execution_count": 46,
     "metadata": {},
     "output_type": "execute_result"
    }
   ],
   "source": [
    "word_tokenize(anna_k)"
   ]
  },
  {
   "cell_type": "code",
   "execution_count": 49,
   "id": "6e8aaf81",
   "metadata": {},
   "outputs": [
    {
     "data": {
      "text/plain": [
       "list"
      ]
     },
     "execution_count": 49,
     "metadata": {},
     "output_type": "execute_result"
    }
   ],
   "source": [
    "#General form of list comprehension\n",
    "\n",
    "word_tokens = [word_tokenize(review) for review in reviews.review]\n",
    "type(word_tokens)"
   ]
  },
  {
   "cell_type": "code",
   "execution_count": 51,
   "id": "d137ba28",
   "metadata": {},
   "outputs": [
    {
     "data": {
      "text/plain": [
       "list"
      ]
     },
     "execution_count": 51,
     "metadata": {},
     "output_type": "execute_result"
    }
   ],
   "source": [
    "type(word_tokens[2])"
   ]
  },
  {
   "cell_type": "code",
   "execution_count": 54,
   "id": "45e9e212",
   "metadata": {},
   "outputs": [],
   "source": [
    "#TOKENS FROM A CLOMN\n",
    "len_tokens = []\n",
    "for i in range(len(word_tokens)):\n",
    "    len_tokens.append(len(word_tokens[i]))"
   ]
  },
  {
   "cell_type": "code",
   "execution_count": 55,
   "id": "a4748c4a",
   "metadata": {},
   "outputs": [],
   "source": [
    "reviews[\"n_tokens\"] = len_tokens"
   ]
  },
  {
   "cell_type": "code",
   "execution_count": 56,
   "id": "9d03bf21",
   "metadata": {},
   "outputs": [
    {
     "data": {
      "text/html": [
       "<div>\n",
       "<style scoped>\n",
       "    .dataframe tbody tr th:only-of-type {\n",
       "        vertical-align: middle;\n",
       "    }\n",
       "\n",
       "    .dataframe tbody tr th {\n",
       "        vertical-align: top;\n",
       "    }\n",
       "\n",
       "    .dataframe thead th {\n",
       "        text-align: right;\n",
       "    }\n",
       "</style>\n",
       "<table border=\"1\" class=\"dataframe\">\n",
       "  <thead>\n",
       "    <tr style=\"text-align: right;\">\n",
       "      <th></th>\n",
       "      <th>Unnamed: 0</th>\n",
       "      <th>review</th>\n",
       "      <th>label</th>\n",
       "      <th>n_tokens</th>\n",
       "    </tr>\n",
       "  </thead>\n",
       "  <tbody>\n",
       "    <tr>\n",
       "      <th>0</th>\n",
       "      <td>18245</td>\n",
       "      <td>This short spoof can be found on Elite's Mille...</td>\n",
       "      <td>0</td>\n",
       "      <td>155</td>\n",
       "    </tr>\n",
       "    <tr>\n",
       "      <th>1</th>\n",
       "      <td>19801</td>\n",
       "      <td>A singularly unfunny musical comedy that artif...</td>\n",
       "      <td>0</td>\n",
       "      <td>645</td>\n",
       "    </tr>\n",
       "    <tr>\n",
       "      <th>2</th>\n",
       "      <td>3222</td>\n",
       "      <td>An excellent series, masterfully acted and dir...</td>\n",
       "      <td>1</td>\n",
       "      <td>121</td>\n",
       "    </tr>\n",
       "    <tr>\n",
       "      <th>3</th>\n",
       "      <td>6010</td>\n",
       "      <td>The master of movie spectacle Cecil B. De Mill...</td>\n",
       "      <td>1</td>\n",
       "      <td>128</td>\n",
       "    </tr>\n",
       "    <tr>\n",
       "      <th>4</th>\n",
       "      <td>16355</td>\n",
       "      <td>I was gifted with this movie as it had such a ...</td>\n",
       "      <td>0</td>\n",
       "      <td>248</td>\n",
       "    </tr>\n",
       "  </tbody>\n",
       "</table>\n",
       "</div>"
      ],
      "text/plain": [
       "   Unnamed: 0                                             review  label  \\\n",
       "0       18245  This short spoof can be found on Elite's Mille...      0   \n",
       "1       19801  A singularly unfunny musical comedy that artif...      0   \n",
       "2        3222  An excellent series, masterfully acted and dir...      1   \n",
       "3        6010  The master of movie spectacle Cecil B. De Mill...      1   \n",
       "4       16355  I was gifted with this movie as it had such a ...      0   \n",
       "\n",
       "   n_tokens  \n",
       "0       155  \n",
       "1       645  \n",
       "2       121  \n",
       "3       128  \n",
       "4       248  "
      ]
     },
     "execution_count": 56,
     "metadata": {},
     "output_type": "execute_result"
    }
   ],
   "source": [
    "reviews.head()"
   ]
  },
  {
   "cell_type": "markdown",
   "id": "e262b5c8",
   "metadata": {},
   "source": [
    "# Can you guess the language?"
   ]
  },
  {
   "cell_type": "code",
   "execution_count": 1,
   "id": "6370f3f1",
   "metadata": {},
   "outputs": [],
   "source": [
    "from langdetect import detect_langs\n",
    "\n",
    "foreign = \"Merhaba Benim Adım Barış. Zeynep Göçerler ile evliyim\""
   ]
  },
  {
   "cell_type": "code",
   "execution_count": 2,
   "id": "7cd47788",
   "metadata": {},
   "outputs": [
    {
     "data": {
      "text/plain": [
       "[tr:0.9999966506756622]"
      ]
     },
     "execution_count": 2,
     "metadata": {},
     "output_type": "execute_result"
    }
   ],
   "source": [
    "detect_langs(foreign)"
   ]
  },
  {
   "cell_type": "code",
   "execution_count": 11,
   "id": "c6dddbcc",
   "metadata": {},
   "outputs": [],
   "source": [
    "import pandas as pd\n",
    "import numpy as np\n",
    "import matplotlib.pyplot as plt\n",
    "\n",
    "reviews = pd.read_csv('/Users/ideakadikoy/Desktop/IMDB_sample.csv')\n"
   ]
  },
  {
   "cell_type": "code",
   "execution_count": null,
   "id": "7414f137",
   "metadata": {},
   "outputs": [],
   "source": [
    "from langdetect import detect_langs\n",
    "amazon = pd.read_cvs(\"amazon_reviews_sample.csv\")"
   ]
  },
  {
   "cell_type": "code",
   "execution_count": 13,
   "id": "4e38fe4c",
   "metadata": {},
   "outputs": [],
   "source": [
    "languages = []\n",
    "\n",
    "for row in range(len(reviews)):\n",
    "    languages.append(detect_langs(reviews.iloc[row,1]))"
   ]
  },
  {
   "cell_type": "code",
   "execution_count": 14,
   "id": "77b1b454",
   "metadata": {},
   "outputs": [],
   "source": [
    "languages = [str(lang).split(\":\") for lang in languages]"
   ]
  },
  {
   "cell_type": "code",
   "execution_count": 15,
   "id": "53e683bc",
   "metadata": {},
   "outputs": [],
   "source": [
    "reviews[\"language\"] = languages"
   ]
  },
  {
   "cell_type": "markdown",
   "id": "38a9045f",
   "metadata": {},
   "source": [
    "# Stop words"
   ]
  },
  {
   "cell_type": "code",
   "execution_count": 1,
   "id": "3fb76885",
   "metadata": {},
   "outputs": [],
   "source": [
    "import pandas as pd\n",
    "import numpy as np\n",
    "\n",
    "from wordcloud import WordCloud, STOPWORDS\n",
    "import matplotlib.pyplot as plt\n"
   ]
  },
  {
   "cell_type": "code",
   "execution_count": 3,
   "id": "fbbd9a19",
   "metadata": {},
   "outputs": [],
   "source": [
    "my_stopwords = set(STOPWORDS)\n",
    "my_stopwords.uptade([\"movie\",\"movies\",\"film\",\"watch\",\"br\"])"
   ]
  },
  {
   "cell_type": "code",
   "execution_count": 5,
   "id": "d6e54fec",
   "metadata": {},
   "outputs": [
    {
     "ename": "NameError",
     "evalue": "name 'my_stopwrods' is not defined",
     "output_type": "error",
     "traceback": [
      "\u001b[0;31m---------------------------------------------------------------------------\u001b[0m",
      "\u001b[0;31mNameError\u001b[0m                                 Traceback (most recent call last)",
      "\u001b[0;32m<ipython-input-5-36550d5e3673>\u001b[0m in \u001b[0;36m<module>\u001b[0;34m\u001b[0m\n\u001b[0;32m----> 1\u001b[0;31m \u001b[0mmy_cloud\u001b[0m \u001b[0;34m=\u001b[0m \u001b[0mWordCloud\u001b[0m\u001b[0;34m(\u001b[0m\u001b[0mbackground_color\u001b[0m \u001b[0;34m=\u001b[0m \u001b[0;34m\"white\"\u001b[0m\u001b[0;34m,\u001b[0m \u001b[0mstopwords\u001b[0m\u001b[0;34m=\u001b[0m\u001b[0mmy_stopwrods\u001b[0m\u001b[0;34m)\u001b[0m\u001b[0;34m.\u001b[0m\u001b[0mgenerate\u001b[0m\u001b[0;34m(\u001b[0m\u001b[0mname_string\u001b[0m\u001b[0;34m)\u001b[0m\u001b[0;34m\u001b[0m\u001b[0;34m\u001b[0m\u001b[0m\n\u001b[0m\u001b[1;32m      2\u001b[0m \u001b[0mplt\u001b[0m\u001b[0;34m.\u001b[0m\u001b[0mimshow\u001b[0m\u001b[0;34m(\u001b[0m\u001b[0mmy_cloud\u001b[0m\u001b[0;34m,\u001b[0m\u001b[0minterpolation\u001b[0m\u001b[0;34m=\u001b[0m\u001b[0;34m\"bilinear\"\u001b[0m\u001b[0;34m)\u001b[0m\u001b[0;34m\u001b[0m\u001b[0;34m\u001b[0m\u001b[0m\n",
      "\u001b[0;31mNameError\u001b[0m: name 'my_stopwrods' is not defined"
     ]
    }
   ],
   "source": [
    "my_cloud = WordCloud(background_color = \"white\", stopwords=my_stopwrods).generate(name_string)\n",
    "plt.imshow(my_cloud,interpolation=\"bilinear\")"
   ]
  },
  {
   "cell_type": "code",
   "execution_count": 8,
   "id": "53618524",
   "metadata": {},
   "outputs": [],
   "source": [
    "from sklearn.feature_extraction.text import CountVectorizer, ENGLISH_STOP_WORDS\n",
    "IMBD = pd.read_csv('/Users/ideakadikoy/Desktop/IMDB_sample.csv')"
   ]
  },
  {
   "cell_type": "code",
   "execution_count": 9,
   "id": "78a9cd9e",
   "metadata": {},
   "outputs": [],
   "source": [
    "my_stop_words = ENGLISH_STOP_WORDS.union([\"film\",\"movie\",\"cinema\",\"theatre\"])"
   ]
  },
  {
   "cell_type": "code",
   "execution_count": 13,
   "id": "ed043627",
   "metadata": {
    "scrolled": true
   },
   "outputs": [],
   "source": [
    "vect = CountVectorizer(stop_words=my_stop_words)\n",
    "vect.fit(IMBD.review)\n",
    "X = vect.transform(IMBD.review)\n",
    "plt.show()"
   ]
  },
  {
   "cell_type": "markdown",
   "id": "56ae8012",
   "metadata": {},
   "source": [
    "# Capturing a token pattern"
   ]
  },
  {
   "cell_type": "code",
   "execution_count": null,
   "id": "7fb71e24",
   "metadata": {},
   "outputs": [],
   "source": [
    "\n",
    "#checks if a string is composed only of letter\n",
    "my_string.isalpha()\n",
    "\n",
    "#checks if a string is composed only of digits\n",
    "my_string.isdigit\n",
    "\n",
    "#checks if a string is composed only of alphanumeric character\n",
    "my_string.isalnum()\n",
    "word_tokens = [word_tokenize(review) for review in IMBD.review]"
   ]
  },
  {
   "cell_type": "code",
   "execution_count": 23,
   "id": "45fdcd38",
   "metadata": {},
   "outputs": [],
   "source": [
    "reviews = pd.read_csv('/Users/ideakadikoy/Desktop/IMDB_sample.csv')\n"
   ]
  },
  {
   "cell_type": "code",
   "execution_count": 24,
   "id": "f7f0432c",
   "metadata": {},
   "outputs": [],
   "source": [
    "import re"
   ]
  },
  {
   "cell_type": "code",
   "execution_count": 25,
   "id": "8ccf6992",
   "metadata": {},
   "outputs": [],
   "source": [
    "my_string = \"#wonderfulday\"\n",
    "x = re.search('#[A-Za-z]', my_string)"
   ]
  },
  {
   "cell_type": "code",
   "execution_count": 26,
   "id": "d75deb54",
   "metadata": {},
   "outputs": [
    {
     "data": {
      "text/plain": [
       "<re.Match object; span=(0, 2), match='#w'>"
      ]
     },
     "execution_count": 26,
     "metadata": {},
     "output_type": "execute_result"
    }
   ],
   "source": [
    "x"
   ]
  },
  {
   "cell_type": "code",
   "execution_count": null,
   "id": "0327735b",
   "metadata": {},
   "outputs": [],
   "source": [
    "#default token pattern in CountVectorizer\n",
    "'\\b\\w\\w+\\b'\n",
    "#Specify a particular token pattern\n",
    "CountVectorizer(token_pattern=r'\\b[^\\d\\W][^\\d\\W]+b')\n"
   ]
  },
  {
   "cell_type": "code",
   "execution_count": 28,
   "id": "bdf1264c",
   "metadata": {},
   "outputs": [],
   "source": [
    "tweets = pd.read_csv('/Users/ideakadikoy/Desktop/Tweets.csv')\n"
   ]
  },
  {
   "cell_type": "code",
   "execution_count": 29,
   "id": "7781e634",
   "metadata": {},
   "outputs": [
    {
     "name": "stdout",
     "output_type": "stream",
     "text": [
      "Length of vectorizer:  643\n"
     ]
    }
   ],
   "source": [
    "vect = CountVectorizer(token_pattern=r'\\b[^\\d\\W][^\\d\\W]').fit(tweets.text)\n",
    "vect.transform(tweets.text)\n",
    "print('Length of vectorizer: ', len(vect.get_feature_names()))"
   ]
  },
  {
   "cell_type": "code",
   "execution_count": 31,
   "id": "65441809",
   "metadata": {},
   "outputs": [
    {
     "name": "stdout",
     "output_type": "stream",
     "text": [
      "Length of vectorizer 1:  15051\n",
      "Length of vectorizer 2:  643\n"
     ]
    }
   ],
   "source": [
    "vect1 = CountVectorizer().fit(tweets.text)\n",
    "vect1.transform(tweets.text)\n",
    "\n",
    "# Build the first vectorizer\n",
    "vect2 = CountVectorizer(token_pattern=r'\\b[^\\d\\W][^\\d\\W]').fit(tweets.text)\n",
    "vect2.transform(tweets.text)\n",
    "\n",
    "# Print out the length of each vectorizer\n",
    "print('Length of vectorizer 1: ', len(vect1.get_feature_names()))\n",
    "print('Length of vectorizer 2: ', len(vect2.get_feature_names()))"
   ]
  },
  {
   "cell_type": "code",
   "execution_count": 32,
   "id": "9249f3f3",
   "metadata": {},
   "outputs": [
    {
     "name": "stdout",
     "output_type": "stream",
     "text": [
      "Original tokens:  ['@', 'VirginAmerica', 'What', '@', 'dhepburn', 'said', '.']\n",
      "Cleaned tokens:  ['VirginAmerica', 'What', 'dhepburn', 'said']\n"
     ]
    }
   ],
   "source": [
    "from nltk import word_tokenize\n",
    "\n",
    "# Tokenize the text column\n",
    "word_tokens = [word_tokenize(review) for review in tweets.text]\n",
    "print('Original tokens: ', word_tokens[0])\n",
    "\n",
    "# Filter out non-letter characters\n",
    "cleaned_tokens = [[word for word in item if word.isalpha()] for item in word_tokens]\n",
    "print('Cleaned tokens: ', cleaned_tokens[0])"
   ]
  },
  {
   "cell_type": "code",
   "execution_count": 34,
   "id": "27e645ec",
   "metadata": {},
   "outputs": [
    {
     "name": "stdout",
     "output_type": "stream",
     "text": [
      "Last item in alphabetic list:  []\n",
      "Last item in list of alphanumerics:  []\n",
      "Last item in the list of digits:  []\n"
     ]
    }
   ],
   "source": [
    "tokens = [word_tokenize(item) for item in tweets]\n",
    "\n",
    "# Remove characters and digits , i.e. retain only letters\n",
    "letters = [[word for word in item if word.isalpha()] for item in tokens]\n",
    "# Remove characters, i.e. retain only letters and digits\n",
    "let_digits = [[word for word in item if word.isalnum()] for item in tokens]\n",
    "# Remove letters and characters, retain only digits\n",
    "digits = [[word for word in item if word.isdigit()] for item in tokens]\n",
    "\n",
    "# Print the last item in each list\n",
    "print('Last item in alphabetic list: ', letters[2])\n",
    "print('Last item in list of alphanumerics: ', let_digits[2])\n",
    "print('Last item in the list of digits: ', digits[2])"
   ]
  },
  {
   "cell_type": "markdown",
   "id": "7a531650",
   "metadata": {},
   "source": [
    "# Stemming and lemmatization\n"
   ]
  },
  {
   "cell_type": "code",
   "execution_count": null,
   "id": "86035be1",
   "metadata": {},
   "outputs": [],
   "source": [
    "What is stemming?\n",
    "stemming is the process of transforming words to their roots forms\n",
    "\n",
    "stayin >stays>stayed -----> stay\n",
    "\n",
    "What is lemmatization?\n",
    "\n",
    "L is quite similar to stemming but unlike stemmin, it reduces the word to \n",
    "roots \n",
    "\n",
    "Stemming         \n",
    "    .Produces roots of word\n",
    "    .fast and efficient to compute\n",
    "    \n",
    "Lemmatization\n",
    "    .Produces actual words\n",
    "    .Slower than stemming and can depend on the part-of-speech\n",
    "    "
   ]
  },
  {
   "cell_type": "code",
   "execution_count": 35,
   "id": "09c73d19",
   "metadata": {},
   "outputs": [],
   "source": [
    "from nltk.stem import PorterStemmer\n",
    "\n",
    "porter = PorterStemmer()"
   ]
  },
  {
   "cell_type": "code",
   "execution_count": 37,
   "id": "b3800665",
   "metadata": {},
   "outputs": [
    {
     "data": {
      "text/plain": [
       "'wonder'"
      ]
     },
     "execution_count": 37,
     "metadata": {},
     "output_type": "execute_result"
    }
   ],
   "source": [
    "porter.stem(\"wonderful\")"
   ]
  },
  {
   "cell_type": "code",
   "execution_count": 38,
   "id": "b73ae870",
   "metadata": {},
   "outputs": [
    {
     "data": {
      "text/plain": [
       "'beginn'"
      ]
     },
     "execution_count": 38,
     "metadata": {},
     "output_type": "execute_result"
    }
   ],
   "source": [
    "from nltk.stem.snowball import SnowballStemmer\n",
    "\n",
    "DutchStemmer = SnowballStemmer(\"dutch\")\n",
    "DutchStemmer.stem(\"beginnen\")"
   ]
  },
  {
   "cell_type": "code",
   "execution_count": 41,
   "id": "0e943c0a",
   "metadata": {},
   "outputs": [],
   "source": [
    "import nltk\n",
    "from nltk.stem.porter import PorterStemmer\n",
    "from nltk.stem.lancaster import LancasterStemmer\n",
    "from nltk.stem import SnowballStemmer "
   ]
  },
  {
   "cell_type": "code",
   "execution_count": 42,
   "id": "7d9ba134",
   "metadata": {},
   "outputs": [
    {
     "data": {
      "text/plain": [
       "'today is a wonderful day!'"
      ]
     },
     "execution_count": 42,
     "metadata": {},
     "output_type": "execute_result"
    }
   ],
   "source": [
    "porter.stem(\"today is a wonderful day!\")"
   ]
  },
  {
   "cell_type": "code",
   "execution_count": 43,
   "id": "1d9fcc4c",
   "metadata": {},
   "outputs": [
    {
     "ename": "NameError",
     "evalue": "name 'stemmed_tokens' is not defined",
     "output_type": "error",
     "traceback": [
      "\u001b[0;31m---------------------------------------------------------------------------\u001b[0m",
      "\u001b[0;31mNameError\u001b[0m                                 Traceback (most recent call last)",
      "\u001b[0;32m<ipython-input-43-29ee42a33bf5>\u001b[0m in \u001b[0;36m<module>\u001b[0;34m\u001b[0m\n\u001b[1;32m      1\u001b[0m \u001b[0mtokens\u001b[0m \u001b[0;34m=\u001b[0m \u001b[0mword_tokenize\u001b[0m\u001b[0;34m(\u001b[0m\u001b[0;34m\"Today is a wonderful day!\"\u001b[0m\u001b[0;34m)\u001b[0m\u001b[0;34m\u001b[0m\u001b[0;34m\u001b[0m\u001b[0m\n\u001b[1;32m      2\u001b[0m \u001b[0mstemmed_tokents\u001b[0m \u001b[0;34m=\u001b[0m \u001b[0;34m[\u001b[0m\u001b[0mporter\u001b[0m\u001b[0;34m.\u001b[0m\u001b[0mstem\u001b[0m\u001b[0;34m(\u001b[0m\u001b[0mtoken\u001b[0m\u001b[0;34m)\u001b[0m \u001b[0;32mfor\u001b[0m \u001b[0mtoken\u001b[0m \u001b[0;32min\u001b[0m \u001b[0mtokens\u001b[0m\u001b[0;34m]\u001b[0m\u001b[0;34m\u001b[0m\u001b[0;34m\u001b[0m\u001b[0m\n\u001b[0;32m----> 3\u001b[0;31m \u001b[0mstemmed_tokens\u001b[0m\u001b[0;34m\u001b[0m\u001b[0;34m\u001b[0m\u001b[0m\n\u001b[0m",
      "\u001b[0;31mNameError\u001b[0m: name 'stemmed_tokens' is not defined"
     ]
    }
   ],
   "source": [
    "tokens = word_tokenize(\"Today is a wonderful day!\")\n",
    "stemmed_tokents = [porter.stem(token) for token in tokens]\n",
    "stemmed_tokens"
   ]
  },
  {
   "cell_type": "code",
   "execution_count": 45,
   "id": "d5ea8e42",
   "metadata": {},
   "outputs": [
    {
     "data": {
      "text/plain": [
       "['airline_senti']"
      ]
     },
     "execution_count": 45,
     "metadata": {},
     "output_type": "execute_result"
    }
   ],
   "source": [
    "## Stems from tweets\n",
    "\n",
    "# Import the function to perform stemming\n",
    "from nltk.stem import PorterStemmer\n",
    "from nltk import word_tokenize\n",
    "\n",
    "# Call the stemmer\n",
    "porter = PorterStemmer()\n",
    "\n",
    "# Transform the array of tweets to tokens\n",
    "tokens = [word_tokenize(word) for word in tweets]\n",
    "# Stem the list of tokens\n",
    "stemmed_tokens = [[porter.stem(word) for word in tweet] for tweet in tokens] \n",
    "# Print the first element of the list\n",
    "stemmed_tokens[1]"
   ]
  },
  {
   "cell_type": "markdown",
   "id": "90b57bea",
   "metadata": {},
   "source": [
    "# TfIdf: More ways to transform text\n"
   ]
  },
  {
   "cell_type": "code",
   "execution_count": null,
   "id": "d4c41f26",
   "metadata": {},
   "outputs": [],
   "source": [
    "TdIdf = term frequency * inverse document frequency\n",
    "#tdIff score\n",
    "\n"
   ]
  },
  {
   "cell_type": "code",
   "execution_count": 54,
   "id": "e0c6428f",
   "metadata": {},
   "outputs": [],
   "source": [
    "from sklearn.feature_extraction.text import TfidfVectorizer\n",
    "tweets = pd.read_csv('/Users/ideakadikoy/Desktop/Tweets.csv')\n"
   ]
  },
  {
   "cell_type": "code",
   "execution_count": 55,
   "id": "a5fd784c",
   "metadata": {},
   "outputs": [],
   "source": [
    "vect = TfidfVectorizer(max_features=100).fit(tweets.text)\n",
    "X = vect.transform(tweets.text)"
   ]
  },
  {
   "cell_type": "code",
   "execution_count": 56,
   "id": "c8dfb768",
   "metadata": {},
   "outputs": [
    {
     "data": {
      "text/plain": [
       "<14640x100 sparse matrix of type '<class 'numpy.float64'>'\n",
       "\twith 119182 stored elements in Compressed Sparse Row format>"
      ]
     },
     "execution_count": 56,
     "metadata": {},
     "output_type": "execute_result"
    }
   ],
   "source": [
    "X"
   ]
  },
  {
   "cell_type": "code",
   "execution_count": 57,
   "id": "0cabe4bc",
   "metadata": {},
   "outputs": [
    {
     "ename": "NameError",
     "evalue": "name 'X_txt' is not defined",
     "output_type": "error",
     "traceback": [
      "\u001b[0;31m---------------------------------------------------------------------------\u001b[0m",
      "\u001b[0;31mNameError\u001b[0m                                 Traceback (most recent call last)",
      "\u001b[0;32m<ipython-input-57-944d83e085f6>\u001b[0m in \u001b[0;36m<module>\u001b[0;34m\u001b[0m\n\u001b[0;32m----> 1\u001b[0;31m \u001b[0mX_df\u001b[0m \u001b[0;34m=\u001b[0m \u001b[0mpd\u001b[0m\u001b[0;34m.\u001b[0m\u001b[0mDataFrame\u001b[0m\u001b[0;34m(\u001b[0m\u001b[0mX_txt\u001b[0m\u001b[0;34m.\u001b[0m\u001b[0mtoarray\u001b[0m\u001b[0;34m(\u001b[0m\u001b[0;34m)\u001b[0m\u001b[0;34m,\u001b[0m\u001b[0mcolumns\u001b[0m\u001b[0;34m=\u001b[0m\u001b[0mvect\u001b[0m\u001b[0;34m.\u001b[0m\u001b[0mget_feature_names\u001b[0m\u001b[0;34m(\u001b[0m\u001b[0;34m)\u001b[0m\u001b[0;34m)\u001b[0m\u001b[0;34m\u001b[0m\u001b[0;34m\u001b[0m\u001b[0m\n\u001b[0m\u001b[1;32m      2\u001b[0m \u001b[0mX_df\u001b[0m\u001b[0;34m.\u001b[0m\u001b[0mhead\u001b[0m\u001b[0;34m(\u001b[0m\u001b[0;34m)\u001b[0m\u001b[0;34m\u001b[0m\u001b[0;34m\u001b[0m\u001b[0m\n",
      "\u001b[0;31mNameError\u001b[0m: name 'X_txt' is not defined"
     ]
    }
   ],
   "source": [
    "X_df = pd.DataFrame(X_txt.toarray(),columns=vect.get_feature_names())\n",
    "X_df.head()"
   ]
  },
  {
   "cell_type": "code",
   "execution_count": 58,
   "id": "d22832bf",
   "metadata": {},
   "outputs": [
    {
     "name": "stdout",
     "output_type": "stream",
     "text": [
      "[[0.4472136  0.4472136  0.4472136  0.         0.4472136  0.\n",
      "  0.4472136  0.         0.         0.         0.         0.\n",
      "  0.        ]\n",
      " [0.         0.         0.         0.30151134 0.         0.30151134\n",
      "  0.         0.30151134 0.30151134 0.30151134 0.30151134 0.60302269\n",
      "  0.30151134]]\n"
     ]
    }
   ],
   "source": [
    "# Import the required function\n",
    "from sklearn.feature_extraction.text import TfidfVectorizer\n",
    "\n",
    "\n",
    "annak = ['Happy families are all alike;', 'every unhappy family is unhappy in its own way']\n",
    "\n",
    "# Call the vectorizer and fit it\n",
    "anna_vect = TfidfVectorizer().fit(annak)\n",
    "\n",
    "# Create the tfidf representation\n",
    "anna_tfidf = anna_vect.transform(annak)\n",
    "\n",
    "# Print the result \n",
    "print(anna_tfidf.toarray())"
   ]
  },
  {
   "cell_type": "code",
   "execution_count": 59,
   "id": "48e16216",
   "metadata": {},
   "outputs": [
    {
     "name": "stdout",
     "output_type": "stream",
     "text": [
      "Top 5 rows of the DataFrame:      aa  agent  airline  airport  americanair       amp  bag  baggage  bags  \\\n",
      "0  0.0    0.0      0.0      0.0          0.0  0.000000  0.0      0.0   0.0   \n",
      "1  0.0    0.0      0.0      0.0          0.0  0.000000  0.0      0.0   0.0   \n",
      "2  0.0    0.0      0.0      0.0          0.0  0.000000  0.0      0.0   0.0   \n",
      "3  0.0    0.0      0.0      0.0          0.0  0.537247  0.0      0.0   0.0   \n",
      "4  0.0    0.0      0.0      0.0          0.0  0.000000  0.0      0.0   0.0   \n",
      "\n",
      "   cancelled  ...        ve  virginamerica  wait  waiting  want  way  weather  \\\n",
      "0        0.0  ...  0.000000       1.000000   0.0      0.0   0.0  0.0      0.0   \n",
      "1        0.0  ...  0.544485       0.531770   0.0      0.0   0.0  0.0      0.0   \n",
      "2        0.0  ...  0.000000       0.407271   0.0      0.0   0.0  0.0      0.0   \n",
      "3        0.0  ...  0.000000       0.559828   0.0      0.0   0.0  0.0      0.0   \n",
      "4        0.0  ...  0.000000       0.663756   0.0      0.0   0.0  0.0      0.0   \n",
      "\n",
      "   work  worst  yes  \n",
      "0   0.0    0.0  0.0  \n",
      "1   0.0    0.0  0.0  \n",
      "2   0.0    0.0  0.0  \n",
      "3   0.0    0.0  0.0  \n",
      "4   0.0    0.0  0.0  \n",
      "\n",
      "[5 rows x 100 columns]\n"
     ]
    }
   ],
   "source": [
    "from sklearn.feature_extraction.text import ENGLISH_STOP_WORDS, TfidfVectorizer\n",
    "\n",
    "# Define the vectorizer and specify the arguments\n",
    "my_pattern = r'\\b[^\\d\\W][^\\d\\W]+\\b'\n",
    "vect = TfidfVectorizer(ngram_range=(1, 2), \n",
    "                       max_features=100, \n",
    "                       token_pattern=my_pattern, \n",
    "                       stop_words=ENGLISH_STOP_WORDS).fit(tweets.text)\n",
    "\n",
    "# Transform the vectorizer\n",
    "X_txt = vect.transform(tweets.text)\n",
    "\n",
    "# Transform to a data frame and specify the column names\n",
    "X=pd.DataFrame(X_txt.toarray(), columns=vect.get_feature_names())\n",
    "print('Top 5 rows of the DataFrame: ', X.head())"
   ]
  },
  {
   "cell_type": "markdown",
   "id": "e03e0564",
   "metadata": {},
   "source": [
    "# Let's predict the sentiment!\n"
   ]
  },
  {
   "cell_type": "code",
   "execution_count": 76,
   "id": "fdff15ae",
   "metadata": {},
   "outputs": [],
   "source": [
    "from sklearn.linear_model import LogisticRegression\n",
    "tweets = pd.read_csv('/Users/ideakadikoy/Desktop/Tweets.csv')"
   ]
  },
  {
   "cell_type": "code",
   "execution_count": 72,
   "id": "8b466bf7",
   "metadata": {},
   "outputs": [],
   "source": [
    "#Accuracy using score\n",
    "\n",
    "score = log_reg.score(X,y)\n",
    "print(score)"
   ]
  },
  {
   "cell_type": "code",
   "execution_count": 73,
   "id": "1fda97db",
   "metadata": {},
   "outputs": [],
   "source": [
    "#from sklearn.metrics import accuracy_score\n",
    "\n",
    "#y_predicted = log_reg.predict(X)\n",
    "#accuracy = accuracy_score(y, y_predicted)"
   ]
  },
  {
   "cell_type": "code",
   "execution_count": 74,
   "id": "e75e5802",
   "metadata": {},
   "outputs": [],
   "source": [
    "#from sklearn.linear_model import LogisticRegression\n",
    "#movies = pd.read_csv('/Users/ideakadikoy/Desktop/IMDB_sample.csv')"
   ]
  },
  {
   "cell_type": "code",
   "execution_count": null,
   "id": "5221b90b",
   "metadata": {},
   "outputs": [],
   "source": [
    "# Define the vector of targets and matrix of features\n",
    "y = tweets.airline_sentiment\n",
    "X = tweets.drop('airline_sentiment', axis=1)\n",
    "\n",
    "# Build a logistic regression model and calculate the accuracy\n",
    "log_reg = LogisticRegression().fit(X, y)\n",
    "print('Accuracy of logistic regression: ', log_reg.score(X, y))\n",
    "\n",
    "# Create an array of prediction\n",
    "y_predict = log_reg.predict(X)\n",
    "\n",
    "# Print the accuracy using accuracy score\n",
    "print('Accuracy of logistic regression: ', accuracy_score(y_predict, y))"
   ]
  },
  {
   "cell_type": "code",
   "execution_count": 78,
   "id": "b11c2e26",
   "metadata": {},
   "outputs": [],
   "source": [
    "from sklearn.model_selection import train_test_split"
   ]
  },
  {
   "cell_type": "code",
   "execution_count": null,
   "id": "515fa8fe",
   "metadata": {},
   "outputs": [],
   "source": [
    "X_train, X_test, y_train, y_ test = train_test_split(X,y, test_size=0.2, \n",
    "                random_state=123, stratify=y )"
   ]
  },
  {
   "cell_type": "code",
   "execution_count": 81,
   "id": "d37f25db",
   "metadata": {},
   "outputs": [
    {
     "ename": "NameError",
     "evalue": "name 'X_train' is not defined",
     "output_type": "error",
     "traceback": [
      "\u001b[0;31m---------------------------------------------------------------------------\u001b[0m",
      "\u001b[0;31mNameError\u001b[0m                                 Traceback (most recent call last)",
      "\u001b[0;32m<ipython-input-81-fc565a784f3d>\u001b[0m in \u001b[0;36m<module>\u001b[0;34m\u001b[0m\n\u001b[0;32m----> 1\u001b[0;31m \u001b[0mlog_reg\u001b[0m \u001b[0;34m=\u001b[0m \u001b[0mLogisticRegression\u001b[0m\u001b[0;34m(\u001b[0m\u001b[0;34m)\u001b[0m\u001b[0;34m.\u001b[0m\u001b[0mfit\u001b[0m\u001b[0;34m(\u001b[0m\u001b[0mX_train\u001b[0m\u001b[0;34m,\u001b[0m \u001b[0my_train\u001b[0m\u001b[0;34m)\u001b[0m\u001b[0;34m\u001b[0m\u001b[0;34m\u001b[0m\u001b[0m\n\u001b[0m",
      "\u001b[0;31mNameError\u001b[0m: name 'X_train' is not defined"
     ]
    }
   ],
   "source": [
    "log_reg = LogisticRegression().fit(X_train, y_train)\n",
    "print(\"accuracy on training data:\",log_reg.score(X_train, y_train))"
   ]
  },
  {
   "cell_type": "code",
   "execution_count": null,
   "id": "8beecdba",
   "metadata": {},
   "outputs": [],
   "source": [
    "from sklearn.metrics import accuracy_score\n",
    "log_reg = LogisticRegression().fit(X_train, y_train)\n",
    "y_predicted = log_reg.predict(X_test)\n",
    "print(\"accuracy score on test data:\", accuracy_score(y_test, y_predicted))"
   ]
  },
  {
   "cell_type": "code",
   "execution_count": 82,
   "id": "077355dd",
   "metadata": {},
   "outputs": [],
   "source": [
    "movies = pd.read_csv('/Users/ideakadikoy/Desktop/IMDB_sample.csv')"
   ]
  },
  {
   "cell_type": "code",
   "execution_count": null,
   "id": "2a42e1f7",
   "metadata": {},
   "outputs": [],
   "source": [
    "from sklearn.linear_model import LogisticRegression\n",
    "from sklearn.model_selection import train_test_split\n",
    "\n",
    "# Define the vector of labels and matrix of features\n",
    "y = movies.label\n",
    "X = movies.drop('label', axis=1)\n",
    "\n",
    "# Perform the train-test split\n",
    "X_train, X_test, y_train, y_test = train_test_split(X, y, test_size=0.2, random_state=42)\n",
    "\n",
    "# Build a logistic regression model and print out the accuracy\n",
    "log_reg = LogisticRegression().fit(X_train, y_train)\n",
    "print('Accuracy on train set: ', log_reg.score(X_train, y_train))\n",
    "print('Accuracy on test set: ', log_reg.score(X_test, y_test))"
   ]
  },
  {
   "cell_type": "markdown",
   "id": "53692abc",
   "metadata": {},
   "source": [
    "# Logistic regression: revisited\n"
   ]
  },
  {
   "cell_type": "code",
   "execution_count": null,
   "id": "83fc8548",
   "metadata": {},
   "outputs": [],
   "source": [
    "Complex Models:\n",
    "    .complex m that captures the noise in the data\n",
    "    .having a large number of features or parameters\n",
    "Regularization:\n",
    "    .a way to simplify and ensure we have a less complez model"
   ]
  },
  {
   "cell_type": "code",
   "execution_count": 84,
   "id": "13d498f7",
   "metadata": {},
   "outputs": [
    {
     "data": {
      "text/plain": [
       "LogisticRegression()"
      ]
     },
     "execution_count": 84,
     "metadata": {},
     "output_type": "execute_result"
    }
   ],
   "source": [
    "from sklearn.linear_model import LogisticRegression\n",
    "LogisticRegression(penalty=\"l2\",C=1.0)"
   ]
  },
  {
   "cell_type": "code",
   "execution_count": null,
   "id": "62d9d658",
   "metadata": {},
   "outputs": [],
   "source": [
    "log_reg = LogisticRegression().fit(X_train, y_train)\n",
    "\n",
    "#predict labels\n",
    "y_predicted = log_reg.predict(X_test)\n",
    "\n",
    "#predict probablity\n",
    "y_probab = log_reg.predict_proba(X_test)\n"
   ]
  },
  {
   "cell_type": "markdown",
   "id": "f97bb495",
   "metadata": {},
   "source": [
    "# Bringing it all together\n"
   ]
  },
  {
   "cell_type": "code",
   "execution_count": 86,
   "id": "9a474815",
   "metadata": {},
   "outputs": [],
   "source": [
    "movies = pd.read_csv('/Users/ideakadikoy/Desktop/IMDB_sample.csv')"
   ]
  },
  {
   "cell_type": "code",
   "execution_count": 88,
   "id": "8e7bfc00",
   "metadata": {},
   "outputs": [],
   "source": [
    "word_tokens = [word_tokenize(review) for review in reviews.review]\n",
    "\n",
    "# Create an empty list to store the length of the reviews\n",
    "len_tokens = []\n",
    "\n",
    "# Iterate over the word_tokens list and determine the length of each item\n",
    "for i in range(len(word_tokens)):\n",
    "     len_tokens.append(len(word_tokens[i]))\n",
    "\n",
    "# Create a new feature for the lengh of each review\n",
    "reviews['n_words'] = len_tokens"
   ]
  },
  {
   "cell_type": "code",
   "execution_count": 89,
   "id": "420ee718",
   "metadata": {},
   "outputs": [
    {
     "name": "stdout",
     "output_type": "stream",
     "text": [
      "Top 5 rows of the DataFrame: \n",
      "      acting    action  actor    actors  actually  american  audience  away  \\\n",
      "0  0.000000  0.000000    0.0  0.000000       0.0       0.0  0.000000   0.0   \n",
      "1  0.070525  0.000000    0.0  0.082068       0.0       0.0  0.100147   0.0   \n",
      "2  0.000000  0.000000    0.0  0.000000       0.0       0.0  0.000000   0.0   \n",
      "3  0.000000  0.217319    0.0  0.000000       0.0       0.0  0.000000   0.0   \n",
      "4  0.000000  0.114076    0.0  0.000000       0.0       0.0  0.000000   0.0   \n",
      "\n",
      "   bad  beautiful  ...      wife  woman     women     work  world  worst  \\\n",
      "0  0.0   0.000000  ...  0.000000    0.0  0.000000  0.00000    0.0    0.0   \n",
      "1  0.0   0.099804  ...  0.000000    0.0  0.000000  0.00000    0.0    0.0   \n",
      "2  0.0   0.000000  ...  0.335568    0.0  0.000000  0.00000    0.0    0.0   \n",
      "3  0.0   0.000000  ...  0.000000    0.0  0.000000  0.00000    0.0    0.0   \n",
      "4  0.0   0.000000  ...  0.000000    0.0  0.660883  0.10068    0.0    0.0   \n",
      "\n",
      "   worth      year  years     young  \n",
      "0    0.0  0.000000    0.0  0.000000  \n",
      "1    0.0  0.199219    0.0  0.000000  \n",
      "2    0.0  0.000000    0.0  0.292340  \n",
      "3    0.0  0.000000    0.0  0.208256  \n",
      "4    0.0  0.000000    0.0  0.000000  \n",
      "\n",
      "[5 rows x 200 columns]\n"
     ]
    }
   ],
   "source": [
    "from sklearn.feature_extraction.text import TfidfVectorizer, ENGLISH_STOP_WORDS\n",
    "\n",
    "# Build the vectorizer\n",
    "vect = TfidfVectorizer(stop_words=ENGLISH_STOP_WORDS, ngram_range=(1, 2), max_features=200, token_pattern=r'\\b[^\\d\\W][^\\d\\W]+\\b').fit(reviews.review)\n",
    "# Create sparse matrix from the vectorizer\n",
    "X = vect.transform(reviews.review)\n",
    "\n",
    "# Create a DataFrame\n",
    "reviews_transformed = pd.DataFrame(X.toarray(), columns=vect.get_feature_names())\n",
    "print('Top 5 rows of the DataFrame: \\n', reviews_transformed.head())"
   ]
  },
  {
   "cell_type": "code",
   "execution_count": null,
   "id": "5c33fdb5",
   "metadata": {},
   "outputs": [],
   "source": [
    "y = reviews_transformed.score\n",
    "X = reviews_transformed.drop('score', axis=1)\n",
    "\n",
    "# Train/test split\n",
    "X_train, X_test, y_train, y_test = train_test_split(X, y, \n",
    "                                                    test_size=0.2, \n",
    "                                                    random_state=456)\n",
    "\n",
    "# Train a logistic regression\n",
    "log_reg = LogisticRegression().fit(X_train, y_train)\n",
    "# Predict the labels\n",
    "y_predicted = log_reg.predict(X_test)\n",
    "\n",
    "# Print accuracy score and confusion matrix on test set\n",
    "print('Accuracy on the test set: ', accuracy_score(y_test, y_predicted))\n",
    "print(confusion_matrix(y_test, y_predicted)/len(y_test))"
   ]
  }
 ],
 "metadata": {
  "kernelspec": {
   "display_name": "Python 3",
   "language": "python",
   "name": "python3"
  },
  "language_info": {
   "codemirror_mode": {
    "name": "ipython",
    "version": 3
   },
   "file_extension": ".py",
   "mimetype": "text/x-python",
   "name": "python",
   "nbconvert_exporter": "python",
   "pygments_lexer": "ipython3",
   "version": "3.8.2"
  }
 },
 "nbformat": 4,
 "nbformat_minor": 5
}
